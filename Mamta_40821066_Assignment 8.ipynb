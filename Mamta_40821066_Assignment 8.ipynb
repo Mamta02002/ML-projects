{
 "cells": [
  {
   "cell_type": "markdown",
   "id": "d2afb879",
   "metadata": {},
   "source": [
    "# ASSIGNMENT 8"
   ]
  },
  {
   "cell_type": "markdown",
   "id": "1078c9ae",
   "metadata": {},
   "source": [
    "# Iris Dataset"
   ]
  },
  {
   "cell_type": "markdown",
   "id": "d056ba21",
   "metadata": {},
   "source": [
    "# Logistic Regression from scratch"
   ]
  },
  {
   "cell_type": "code",
   "execution_count": 1,
   "id": "392b16c9",
   "metadata": {},
   "outputs": [
    {
     "data": {
      "text/html": [
       "<div>\n",
       "<style scoped>\n",
       "    .dataframe tbody tr th:only-of-type {\n",
       "        vertical-align: middle;\n",
       "    }\n",
       "\n",
       "    .dataframe tbody tr th {\n",
       "        vertical-align: top;\n",
       "    }\n",
       "\n",
       "    .dataframe thead th {\n",
       "        text-align: right;\n",
       "    }\n",
       "</style>\n",
       "<table border=\"1\" class=\"dataframe\">\n",
       "  <thead>\n",
       "    <tr style=\"text-align: right;\">\n",
       "      <th></th>\n",
       "      <th>sepal_length</th>\n",
       "      <th>sepal_width</th>\n",
       "      <th>petal_length</th>\n",
       "      <th>petal_width</th>\n",
       "      <th>species</th>\n",
       "    </tr>\n",
       "  </thead>\n",
       "  <tbody>\n",
       "    <tr>\n",
       "      <th>0</th>\n",
       "      <td>5.1</td>\n",
       "      <td>3.5</td>\n",
       "      <td>1.4</td>\n",
       "      <td>0.2</td>\n",
       "      <td>Iris-setosa</td>\n",
       "    </tr>\n",
       "    <tr>\n",
       "      <th>1</th>\n",
       "      <td>4.9</td>\n",
       "      <td>3.0</td>\n",
       "      <td>1.4</td>\n",
       "      <td>0.2</td>\n",
       "      <td>Iris-setosa</td>\n",
       "    </tr>\n",
       "    <tr>\n",
       "      <th>2</th>\n",
       "      <td>4.7</td>\n",
       "      <td>3.2</td>\n",
       "      <td>1.3</td>\n",
       "      <td>0.2</td>\n",
       "      <td>Iris-setosa</td>\n",
       "    </tr>\n",
       "    <tr>\n",
       "      <th>3</th>\n",
       "      <td>4.6</td>\n",
       "      <td>3.1</td>\n",
       "      <td>1.5</td>\n",
       "      <td>0.2</td>\n",
       "      <td>Iris-setosa</td>\n",
       "    </tr>\n",
       "    <tr>\n",
       "      <th>4</th>\n",
       "      <td>5.0</td>\n",
       "      <td>3.6</td>\n",
       "      <td>1.4</td>\n",
       "      <td>0.2</td>\n",
       "      <td>Iris-setosa</td>\n",
       "    </tr>\n",
       "  </tbody>\n",
       "</table>\n",
       "</div>"
      ],
      "text/plain": [
       "   sepal_length  sepal_width  petal_length  petal_width      species\n",
       "0           5.1          3.5           1.4          0.2  Iris-setosa\n",
       "1           4.9          3.0           1.4          0.2  Iris-setosa\n",
       "2           4.7          3.2           1.3          0.2  Iris-setosa\n",
       "3           4.6          3.1           1.5          0.2  Iris-setosa\n",
       "4           5.0          3.6           1.4          0.2  Iris-setosa"
      ]
     },
     "execution_count": 1,
     "metadata": {},
     "output_type": "execute_result"
    }
   ],
   "source": [
    "#importing the dataset\n",
    "import pandas as pd\n",
    "import numpy as np\n",
    "import matplotlib.pyplot as plt\n",
    "data = pd.read_csv(r'C:\\Users\\naren\\Desktop\\DESKTOP MAMTA\\STUDY BSC DATA ANALYTICS\\semester 3 bsc Data Analytics\\ML\\IRIS.csv')\n",
    "data.head()"
   ]
  },
  {
   "cell_type": "code",
   "execution_count": 2,
   "id": "dc93551e",
   "metadata": {},
   "outputs": [],
   "source": [
    "#encoding the target variables (setosa: 0,versicolor: 1,viginica: 2)\n",
    "keys = data['species'].unique()\n",
    "values = [i for i in range(len(keys))]\n",
    "mapping = dict(zip(keys,values))\n",
    "data['species'] = data['species'].replace(keys,values)"
   ]
  },
  {
   "cell_type": "code",
   "execution_count": 3,
   "id": "b60c0cc8",
   "metadata": {},
   "outputs": [],
   "source": [
    "#shuffling the data\n",
    "data = data.to_numpy()\n",
    "np.random.shuffle(data)"
   ]
  },
  {
   "cell_type": "code",
   "execution_count": 4,
   "id": "67eaef13",
   "metadata": {},
   "outputs": [],
   "source": [
    "#splitting training and testing dataset\n",
    "X = data[:,:-1]\n",
    "Y = data[:,-1]\n",
    "test_train_ratio = 0.2\n",
    "num_testing_example = int(test_train_ratio*(X.shape[0]))\n",
    "num_training_example = X.shape[0]-num_testing_example\n",
    "X_train = X[:num_training_example]\n",
    "Y_train = Y[:num_training_example]\n",
    "X_test = X[num_training_example:]\n",
    "Y_test = Y[num_training_example:]"
   ]
  },
  {
   "cell_type": "code",
   "execution_count": 5,
   "id": "f47050a9",
   "metadata": {},
   "outputs": [],
   "source": [
    "def hypothesis(theta, X):\n",
    "    return 1 / (1 + np.exp(-(np.dot(theta, X.T))))"
   ]
  },
  {
   "cell_type": "code",
   "execution_count": 6,
   "id": "edb9fc06",
   "metadata": {},
   "outputs": [],
   "source": [
    "def cost(X, y, theta):\n",
    "    y1 = hypothesis(theta,X)\n",
    "    return -(1/len(X)) * np.sum(y*np.log(y1) + (1-y)*np.log(1-y1))"
   ]
  },
  {
   "cell_type": "code",
   "execution_count": 7,
   "id": "cc911310",
   "metadata": {},
   "outputs": [],
   "source": [
    "y = Y_train\n",
    "y1 = np.zeros([X_train.shape[0], len(np.unique(y))])\n",
    "for i in range(0, len(np.unique(y))):\n",
    "    for j in range(0, len(y1)):\n",
    "        if y[j] == np.unique(y)[i]:\n",
    "            y1[j, i] = 1\n",
    "        else: \n",
    "            y1[j, i] = 0"
   ]
  },
  {
   "cell_type": "code",
   "execution_count": 8,
   "id": "42f2be2b",
   "metadata": {},
   "outputs": [],
   "source": [
    "def gradient_descent(X, y, theta, alpha, epochs):\n",
    "    m = len(X)\n",
    "    for i in range(0, epochs):\n",
    "        for j in range(0,3):\n",
    "            theta = np.array(theta)\n",
    "            h = hypothesis(theta[:,j], X)\n",
    "            for k in range(0, theta.shape[0]):\n",
    "                theta[k, j] -= (alpha/m) * np.sum((h-y[:, j])*X[:, k])\n",
    "    return theta, cost"
   ]
  },
  {
   "cell_type": "code",
   "execution_count": 9,
   "id": "c34e0417",
   "metadata": {},
   "outputs": [
    {
     "data": {
      "text/plain": [
       "(array([[ 0.56700013,  0.58378026, -2.20391428],\n",
       "        [ 1.83351378, -1.51286256, -2.10917231],\n",
       "        [-2.78800281,  0.57851076,  3.07131246],\n",
       "        [-1.24158663, -1.52775509,  2.86949234]]),\n",
       " <function __main__.cost(X, y, theta)>)"
      ]
     },
     "execution_count": 9,
     "metadata": {},
     "output_type": "execute_result"
    }
   ],
   "source": [
    "theta = np.zeros([X_train.shape[1], y1.shape[1]])\n",
    "theta = gradient_descent(X_train, y1, theta, 0.001, 100000)\n",
    "theta"
   ]
  },
  {
   "cell_type": "code",
   "execution_count": 10,
   "id": "4bce2d62",
   "metadata": {},
   "outputs": [],
   "source": [
    "output = []\n",
    "for i in range(0,3):\n",
    "    h = hypothesis(theta[0][:,i], X_test)\n",
    "    output.append(h)"
   ]
  },
  {
   "cell_type": "code",
   "execution_count": 11,
   "id": "91034c32",
   "metadata": {},
   "outputs": [
    {
     "name": "stdout",
     "output_type": "stream",
     "text": [
      "Accuracy =  0.7666666666666667\n"
     ]
    }
   ],
   "source": [
    "y = Y_test\n",
    "y2 = np.zeros([X_test.shape[0], len(np.unique(y))])\n",
    "for i in range(0, len(np.unique(y))):\n",
    "    for j in range(0, len(y2)):\n",
    "        if y[j] == np.unique(y)[i]:\n",
    "            y2[j, i] = 1\n",
    "        else: \n",
    "            y2[j, i] = 0\n",
    "accuracy = 0\n",
    "y_pred = []\n",
    "for col in range(0,3):\n",
    "    for row in range(len(y2)):\n",
    "        if y2[row, col] == 1 and output[col][row] >= 0.5:\n",
    "            accuracy += 1\n",
    "accuracy = accuracy/len(X_test)\n",
    "print(\"Accuracy = \",accuracy)"
   ]
  },
  {
   "cell_type": "code",
   "execution_count": 12,
   "id": "5090d8dd",
   "metadata": {},
   "outputs": [],
   "source": [
    "def y_change(y, cl):\n",
    "    y_pr=[]\n",
    "    for i in range(0, len(y)):\n",
    "        if y[i] == cl:\n",
    "            y_pr.append(1)\n",
    "        else:\n",
    "            y_pr.append(0)\n",
    "    return y_pr\n",
    "y_pred =[0]*len(y)\n",
    "y_uniq = np.unique(Y_test)\n",
    "for i in range(0, len(y_uniq)):\n",
    "    y_tr = y_change(y, y_uniq[i])\n",
    "    for k in range(0, len(y)):\n",
    "        if y_tr[k] == 1 and output[i][k] >= 0.5:\n",
    "            y_pred[k] = int(y_uniq[i])"
   ]
  },
  {
   "cell_type": "code",
   "execution_count": 13,
   "id": "863be213",
   "metadata": {},
   "outputs": [
    {
     "data": {
      "text/plain": [
       "'f1_score = 0.7666666666666667, recall = 0.7666666666666667, precision = 0.7666666666666667'"
      ]
     },
     "execution_count": 13,
     "metadata": {},
     "output_type": "execute_result"
    }
   ],
   "source": [
    "#precision,recall, f1_score\n",
    "def regression_metrics(y,y_pred):\n",
    "    tp,tn,fp,fn = 0,0,0,0\n",
    "    for j in np.unique(y):\n",
    "        for i in range(len(y)):\n",
    "            if y[i]==j and y_pred[i]==j:\n",
    "                tp+=1\n",
    "            elif y[i]==j and y_pred[i]!=j:\n",
    "                fn+=1\n",
    "            elif y[i]!=j and y_pred[i]==j:\n",
    "                fp+=1\n",
    "            elif y[i]!=j and y_pred[i]!=j:\n",
    "                tn+=1\n",
    "    precision = tp/(tp+fp)\n",
    "    recall = tp/(tp+fn)\n",
    "    f1_score = 2*precision*recall/(precision+recall)\n",
    "    return f\"f1_score = {f1_score}, recall = {recall}, precision = {precision}\" \n",
    "regression_metrics(Y_test,y_pred)"
   ]
  },
  {
   "cell_type": "code",
   "execution_count": 14,
   "id": "3838db9d",
   "metadata": {},
   "outputs": [],
   "source": [
    "#plotting confusion matrix\n",
    "from sklearn.metrics import confusion_matrix\n",
    "cm = confusion_matrix(Y_test,y_pred)"
   ]
  },
  {
   "cell_type": "code",
   "execution_count": 15,
   "id": "f8bac8ce",
   "metadata": {},
   "outputs": [
    {
     "data": {
      "text/html": [
       "<div>\n",
       "<style scoped>\n",
       "    .dataframe tbody tr th:only-of-type {\n",
       "        vertical-align: middle;\n",
       "    }\n",
       "\n",
       "    .dataframe tbody tr th {\n",
       "        vertical-align: top;\n",
       "    }\n",
       "\n",
       "    .dataframe thead th {\n",
       "        text-align: right;\n",
       "    }\n",
       "</style>\n",
       "<table border=\"1\" class=\"dataframe\">\n",
       "  <thead>\n",
       "    <tr style=\"text-align: right;\">\n",
       "      <th>col_0</th>\n",
       "      <th>0</th>\n",
       "      <th>1</th>\n",
       "      <th>2</th>\n",
       "    </tr>\n",
       "    <tr>\n",
       "      <th>row_0</th>\n",
       "      <th></th>\n",
       "      <th></th>\n",
       "      <th></th>\n",
       "    </tr>\n",
       "  </thead>\n",
       "  <tbody>\n",
       "    <tr>\n",
       "      <th>0.0</th>\n",
       "      <td>12</td>\n",
       "      <td>0</td>\n",
       "      <td>0</td>\n",
       "    </tr>\n",
       "    <tr>\n",
       "      <th>1.0</th>\n",
       "      <td>7</td>\n",
       "      <td>1</td>\n",
       "      <td>0</td>\n",
       "    </tr>\n",
       "    <tr>\n",
       "      <th>2.0</th>\n",
       "      <td>0</td>\n",
       "      <td>0</td>\n",
       "      <td>10</td>\n",
       "    </tr>\n",
       "  </tbody>\n",
       "</table>\n",
       "</div>"
      ],
      "text/plain": [
       "col_0   0  1   2\n",
       "row_0           \n",
       "0.0    12  0   0\n",
       "1.0     7  1   0\n",
       "2.0     0  0  10"
      ]
     },
     "execution_count": 15,
     "metadata": {},
     "output_type": "execute_result"
    }
   ],
   "source": [
    "y_pred1 = pd.Series(y_pred)\n",
    "y_test1 = pd.Series(Y_test)\n",
    "cm_new = pd.crosstab(y_test1,y_pred1)\n",
    "cm_new"
   ]
  },
  {
   "cell_type": "code",
   "execution_count": 16,
   "id": "17920a75",
   "metadata": {},
   "outputs": [
    {
     "data": {
      "text/plain": [
       "'f1_score = 0.7666666666666667, recall = 0.7666666666666667, precision = 0.7666666666666667'"
      ]
     },
     "execution_count": 16,
     "metadata": {},
     "output_type": "execute_result"
    }
   ],
   "source": [
    "def regression_metrics(y,y_pred):\n",
    "    tp,fp,tn,fn = 0,0,0,0\n",
    "    for i in range(len(y)):\n",
    "        for j in np.unique(y):\n",
    "            if y[i]==j and y_pred[i]==j:\n",
    "                tp+=1\n",
    "            elif y[i]==j and y_pred[i]!=j:\n",
    "                fn+=1\n",
    "            elif y[i]!=j and y_pred[i]==j:\n",
    "                fp+=1\n",
    "            elif y[i]!=j and y_pred[i]!=j:\n",
    "                tn+=1\n",
    "    precision = tp/(tp+fp)\n",
    "    recall = tp/(tp+fn)\n",
    "    f1_score = 2*precision*recall/(precision+recall)\n",
    "    return f\"f1_score = {f1_score}, recall = {recall}, precision = {precision}\" \n",
    "regression_metrics(Y_test,y_pred)"
   ]
  },
  {
   "cell_type": "code",
   "execution_count": 17,
   "id": "c9c3a6ee",
   "metadata": {},
   "outputs": [
    {
     "data": {
      "text/plain": [
       "Text(0.5, 63.222222222222186, 'Predicted label')"
      ]
     },
     "execution_count": 17,
     "metadata": {},
     "output_type": "execute_result"
    },
    {
     "data": {
      "image/png": "[encoded data removed]",
      "text/plain": [
       "<Figure size 500x500 with 2 Axes>"
      ]
     },
     "metadata": {},
     "output_type": "display_data"
    }
   ],
   "source": [
    "import seaborn as sns\n",
    "plt.figure(figsize = (5,5))\n",
    "sns.heatmap(cm_new,annot = True,linewidths = 0.5,square = True,cmap = 'Greens')\n",
    "plt.ylabel(\"Actual label\")\n",
    "plt.xlabel(\"Predicted label\")"
   ]
  },
  {
   "cell_type": "markdown",
   "id": "66e8be45",
   "metadata": {},
   "source": [
    "# Implementing logistic regression from sklearn"
   ]
  },
  {
   "cell_type": "code",
   "execution_count": 18,
   "id": "b2d37f75",
   "metadata": {},
   "outputs": [
    {
     "name": "stdout",
     "output_type": "stream",
     "text": [
      "0.9666666666666667\n"
     ]
    }
   ],
   "source": [
    "from sklearn.linear_model import LogisticRegression\n",
    "regr = LogisticRegression()\n",
    "regr.fit(X_train,Y_train)\n",
    "Y_pred = regr.predict(X_test)\n",
    "from sklearn.metrics import accuracy_score\n",
    "print(accuracy_score(Y_pred,Y_test))"
   ]
  },
  {
   "cell_type": "code",
   "execution_count": 19,
   "id": "c56adbfc",
   "metadata": {},
   "outputs": [
    {
     "data": {
      "text/plain": [
       "array([[12,  0,  0],\n",
       "       [ 0,  8,  0],\n",
       "       [ 0,  1,  9]], dtype=int64)"
      ]
     },
     "execution_count": 19,
     "metadata": {},
     "output_type": "execute_result"
    }
   ],
   "source": [
    "from sklearn.metrics import confusion_matrix\n",
    "cm = confusion_matrix(Y_test,Y_pred)\n",
    "cm"
   ]
  },
  {
   "cell_type": "code",
   "execution_count": 20,
   "id": "3e21eb93",
   "metadata": {},
   "outputs": [
    {
     "data": {
      "text/plain": [
       "Text(0.5, 63.222222222222186, 'Predicted label')"
      ]
     },
     "execution_count": 20,
     "metadata": {},
     "output_type": "execute_result"
    },
    {
     "data": {
      "image/png": "[encoded data removed]",
      "text/plain": [
       "<Figure size 500x500 with 2 Axes>"
      ]
     },
     "metadata": {},
     "output_type": "display_data"
    }
   ],
   "source": [
    "import seaborn as sns\n",
    "plt.figure(figsize = (5,5))\n",
    "sns.heatmap(cm,annot = True,linewidths = 0.5,square = True,cmap = 'Greens')\n",
    "plt.ylabel(\"Actual label\")\n",
    "plt.xlabel(\"Predicted label\")"
   ]
  },
  {
   "cell_type": "markdown",
   "id": "5da8eddf",
   "metadata": {},
   "source": [
    "# MNIST DATASET"
   ]
  },
  {
   "cell_type": "code",
   "execution_count": 21,
   "id": "2ae1cb8a",
   "metadata": {},
   "outputs": [
    {
     "name": "stderr",
     "output_type": "stream",
     "text": [
      "C:\\Users\\naren\\anaconda3\\lib\\site-packages\\sklearn\\datasets\\_openml.py:932: FutureWarning: The default value of `parser` will change from `'liac-arff'` to `'auto'` in 1.4. You can set `parser='auto'` to silence this warning. Therefore, an `ImportError` will be raised from 1.4 if the dataset is dense and pandas is not installed. Note that the pandas parser may return different data types. See the Notes Section in fetch_openml's API doc for details.\n",
      "  warn(\n"
     ]
    }
   ],
   "source": [
    "from sklearn.datasets import fetch_openml\n",
    "import numpy as np\n",
    "mnist = fetch_openml('mnist_784', version=1)\n",
    "test_data, test_target = (mnist[\"data\"][60000:]).to_numpy(int),(mnist[\"target\"][60000:]).to_numpy(int)\n",
    "train_data,train_target = (mnist['data'][:60000]).to_numpy(int),(mnist['target'][:60000]).to_numpy(int)"
   ]
  },
  {
   "cell_type": "code",
   "execution_count": 22,
   "id": "fd665fcb",
   "metadata": {},
   "outputs": [
    {
     "name": "stdout",
     "output_type": "stream",
     "text": [
      "0.9255\n"
     ]
    },
    {
     "name": "stderr",
     "output_type": "stream",
     "text": [
      "C:\\Users\\naren\\anaconda3\\lib\\site-packages\\sklearn\\linear_model\\_logistic.py:458: ConvergenceWarning: lbfgs failed to converge (status=1):\n",
      "STOP: TOTAL NO. of ITERATIONS REACHED LIMIT.\n",
      "\n",
      "Increase the number of iterations (max_iter) or scale the data as shown in:\n",
      "    https://scikit-learn.org/stable/modules/preprocessing.html\n",
      "Please also refer to the documentation for alternative solver options:\n",
      "    https://scikit-learn.org/stable/modules/linear_model.html#logistic-regression\n",
      "  n_iter_i = _check_optimize_result(\n"
     ]
    }
   ],
   "source": [
    "from sklearn.linear_model import LogisticRegression\n",
    "regr = LogisticRegression()\n",
    "regr.fit(train_data,train_target)\n",
    "Y_pred = regr.predict(test_data)\n",
    "from sklearn.metrics import accuracy_score\n",
    "print(accuracy_score(Y_pred,test_target))"
   ]
  },
  {
   "cell_type": "code",
   "execution_count": 23,
   "id": "b6f7600a",
   "metadata": {},
   "outputs": [
    {
     "data": {
      "text/plain": [
       "array([[ 963,    0,    0,    3,    1,    3,    4,    4,    2,    0],\n",
       "       [   0, 1112,    4,    2,    0,    1,    3,    2,   11,    0],\n",
       "       [   3,   10,  926,   15,    6,    4,   15,    8,   42,    3],\n",
       "       [   4,    1,   21,  916,    1,   26,    3,    9,   22,    7],\n",
       "       [   1,    1,    7,    3,  910,    0,    9,    7,   10,   34],\n",
       "       [  11,    2,    1,   33,   11,  776,   11,    6,   35,    6],\n",
       "       [   9,    3,    7,    3,    7,   16,  910,    2,    1,    0],\n",
       "       [   1,    6,   24,    5,    7,    1,    0,  951,    3,   30],\n",
       "       [   8,    7,    6,   23,    6,   26,   10,   10,  869,    9],\n",
       "       [   9,    7,    0,   11,   25,    6,    0,   22,    7,  922]],\n",
       "      dtype=int64)"
      ]
     },
     "execution_count": 23,
     "metadata": {},
     "output_type": "execute_result"
    }
   ],
   "source": [
    "from sklearn.metrics import confusion_matrix\n",
    "cm1 = confusion_matrix(test_target,Y_pred)\n",
    "cm1"
   ]
  },
  {
   "cell_type": "code",
   "execution_count": 24,
   "id": "b08c3ae5",
   "metadata": {},
   "outputs": [
    {
     "data": {
      "text/plain": [
       "Text(0.5, 118.72222222222216, 'Predicted label')"
      ]
     },
     "execution_count": 24,
     "metadata": {},
     "output_type": "execute_result"
    },
    {
     "data": {
      "image/png": "[encoded data removed]",
      "text/plain": [
       "<Figure size 800x800 with 2 Axes>"
      ]
     },
     "metadata": {},
     "output_type": "display_data"
    }
   ],
   "source": [
    "import seaborn as sns\n",
    "plt.figure(figsize = (8,8))\n",
    "sns.heatmap(cm1,annot = True,linewidths = 0.5,square = True,cmap = 'Greens')\n",
    "plt.ylabel(\"Actual label\")\n",
    "plt.xlabel(\"Predicted label\")"
   ]
  },
  {
   "cell_type": "code",
   "execution_count": 25,
   "id": "fefe7be0",
   "metadata": {},
   "outputs": [
    {
     "data": {
      "text/plain": [
       "'Accuracy = 0.9255, f1_score = 0.9255, recall = 0.9255, precision = 0.9255'"
      ]
     },
     "execution_count": 25,
     "metadata": {},
     "output_type": "execute_result"
    }
   ],
   "source": [
    "#precision,recall, f1_score\n",
    "def regression_metrics(y,y_pred):\n",
    "    tp,tn,fp,fn = 0,0,0,0\n",
    "    for j in np.unique(y):\n",
    "        for i in range(len(y)):\n",
    "            if y[i]==j and y_pred[i]==j:\n",
    "                tp+=1\n",
    "            elif y[i]==j and y_pred[i]!=j:\n",
    "                fn+=1\n",
    "            elif y[i]!=j and y_pred[i]==j:\n",
    "                fp+=1\n",
    "            elif y[i]!=j and y_pred[i]!=j:\n",
    "                tn+=1\n",
    "    precision = tp/(tp+fp)\n",
    "    recall = tp/(tp+fn)\n",
    "    f1_score = 2*precision*recall/(precision+recall)\n",
    "    \n",
    "    correct = 0\n",
    "    for x in range(len(y)):\n",
    "        if y[x]==y_pred[x]:\n",
    "            correct+=1\n",
    "    accuracy = correct/len(y)\n",
    "    return f\"Accuracy = {accuracy}, f1_score = {f1_score}, recall = {recall}, precision = {precision}\" \n",
    "regression_metrics(test_target,Y_pred)"
   ]
  },
  {
   "cell_type": "code",
   "execution_count": 27,
   "id": "42ca2e6e",
   "metadata": {},
   "outputs": [],
   "source": [
    "#ROC curve\n",
    "pred_prob = regr.predict_proba(test_data)\n",
    "from sklearn.metrics import roc_curve\n",
    "fpr1, tpr1, thresh1 = roc_curve(test_target, pred_prob[:,1], pos_label=1)"
   ]
  },
  {
   "cell_type": "code",
   "execution_count": 28,
   "id": "4b0a7914",
   "metadata": {},
   "outputs": [
    {
     "data": {
      "text/plain": [
       "<matplotlib.legend.Legend at 0x23c40e6fd30>"
      ]
     },
     "execution_count": 28,
     "metadata": {},
     "output_type": "execute_result"
    },
    {
     "data": {
      "image/png": "[encoded data removed]",
      "text/plain": [
       "<Figure size 640x480 with 1 Axes>"
      ]
     },
     "metadata": {},
     "output_type": "display_data"
    }
   ],
   "source": [
    "fpr = {}\n",
    "tpr = {}\n",
    "thresh ={}\n",
    "\n",
    "n_class = 3\n",
    "\n",
    "for i in range(n_class):    \n",
    "    fpr[i], tpr[i], thresh[i] = roc_curve(test_target, pred_prob[:,i], pos_label=i)\n",
    "# plotting    \n",
    "plt.plot(fpr[0], tpr[0], linestyle='--',color='orange', label='Class 0 vs Rest')\n",
    "plt.plot(fpr[1], tpr[1], linestyle='--',color='green', label='Class 1 vs Rest')\n",
    "plt.plot(fpr[2], tpr[2], linestyle='--',color='blue', label='Class 2 vs Rest')\n",
    "plt.title('Multiclass ROC curve')\n",
    "plt.xlabel('False Positive Rate')\n",
    "plt.ylabel('True Positive rate')\n",
    "plt.legend(loc='best')"
   ]
  },
  {
   "cell_type": "code",
   "execution_count": null,
   "id": "e396c490",
   "metadata": {},
   "outputs": [],
   "source": []
  }
 ],
 "metadata": {
  "kernelspec": {
   "display_name": "Python 3 (ipykernel)",
   "language": "python",
   "name": "python3"
  },
  "language_info": {
   "codemirror_mode": {
    "name": "ipython",
    "version": 3
   },
   "file_extension": ".py",
   "mimetype": "text/x-python",
   "name": "python",
   "nbconvert_exporter": "python",
   "pygments_lexer": "ipython3",
   "version": "3.9.15"
  }
 },
 "nbformat": 4,
 "nbformat_minor": 5
}
