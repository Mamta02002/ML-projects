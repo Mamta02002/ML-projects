{
 "cells": [
  {
   "cell_type": "markdown",
   "id": "5b289eb0",
   "metadata": {},
   "source": [
    "# ASSIGNMENT 11"
   ]
  },
  {
   "cell_type": "markdown",
   "id": "d74276fe",
   "metadata": {},
   "source": [
    "# Naive Bayes from SCRATCH"
   ]
  },
  {
   "cell_type": "code",
   "execution_count": 30,
   "id": "2ddb2ea5",
   "metadata": {},
   "outputs": [],
   "source": [
    "#creating the dataset\n",
    "#-1 in the actual dataset is replaced with 2\n",
    "import pandas as pd\n",
    "import numpy as np\n",
    "data = pd.DataFrame({'Gene A':[1,1,0,2,2,2,0,1,1,2,1,0,0,2,1],'Gene B': [1,1,1,0,2,2,2,0,2,0,0,0,1,0,2],\n",
    "                    'Gene C': [1,1,1,1,0,0,0,1,0,0,0,1,0,1,1],'Gene D': [0,1,0,0,0,1,1,0,0,0,1,1,0,1,1],\n",
    "                    'class':['normal','normal','tumor','tumor','tumor','normal','tumor','normal','tumor','tumor','tumor'\n",
    "                            ,'tumor','tumor','normal','unknown']})\n",
    "data = data.to_numpy()\n",
    "x_train,y_train = data[:14,:4],data[:14,4]\n",
    "x_test = data[14,:4]"
   ]
  },
  {
   "cell_type": "code",
   "execution_count": 35,
   "id": "f48fe2f0",
   "metadata": {},
   "outputs": [
    {
     "data": {
      "text/plain": [
       "{'x1=0|y=normal': 0.0,\n",
       " 'x1=1|y=normal': 0.6,\n",
       " 'x1=2|y=normal': 0.4,\n",
       " 'x2=0|y=normal': 0.4,\n",
       " 'x2=1|y=normal': 0.4,\n",
       " 'x2=2|y=normal': 0.2,\n",
       " 'x3=0|y=normal': 0.2,\n",
       " 'x3=1|y=normal': 0.8,\n",
       " 'x4=0|y=normal': 0.4,\n",
       " 'x4=1|y=normal': 0.6,\n",
       " 'x1=0|y=tumor': 0.4444444444444444,\n",
       " 'x1=1|y=tumor': 0.2222222222222222,\n",
       " 'x1=2|y=tumor': 0.3333333333333333,\n",
       " 'x2=0|y=tumor': 0.4444444444444444,\n",
       " 'x2=1|y=tumor': 0.2222222222222222,\n",
       " 'x2=2|y=tumor': 0.3333333333333333,\n",
       " 'x3=0|y=tumor': 0.6666666666666666,\n",
       " 'x3=1|y=tumor': 0.3333333333333333,\n",
       " 'x4=0|y=tumor': 0.6666666666666666,\n",
       " 'x4=1|y=tumor': 0.3333333333333333}"
      ]
     },
     "execution_count": 35,
     "metadata": {},
     "output_type": "execute_result"
    }
   ],
   "source": [
    "#conditional probabilities for each class and each feature\n",
    "def calculate_probabilities(x,y):\n",
    "    probabilities = {}\n",
    "    for class_ in np.unique(y):\n",
    "        for i in range(x.shape[1]):\n",
    "            for val in (np.unique(x[:,i])):\n",
    "                a = 0\n",
    "                for j in range(x_train.shape[ 0]):\n",
    "                    if y[j]== class_ and x[:,i][j]==val:\n",
    "                        a+=1\n",
    "                probabilities[f\"x{i+1}={val}|y={class_}\"] = a/list(y_train).count(class_)\n",
    "    return probabilities\n",
    "probabilities = calculate_probabilities(x_train,y_train)\n",
    "probabilities"
   ]
  },
  {
   "cell_type": "code",
   "execution_count": 34,
   "id": "db44a996",
   "metadata": {},
   "outputs": [
    {
     "data": {
      "text/plain": [
       "{'normal': 0.35714285714285715, 'tumor': 0.6428571428571429}"
      ]
     },
     "execution_count": 34,
     "metadata": {},
     "output_type": "execute_result"
    }
   ],
   "source": [
    "def class_probabilities(y):\n",
    "    prob = {}\n",
    "    for class_ in np.unique(y):\n",
    "        prob[class_] = list(y).count(class_)/len(y)\n",
    "    return prob\n",
    "class_prob = class_probabilities(y_train)\n",
    "class_prob"
   ]
  },
  {
   "cell_type": "code",
   "execution_count": 39,
   "id": "bcbcd945",
   "metadata": {},
   "outputs": [
    {
     "data": {
      "text/plain": [
       "{'normal': 0.795417348608838, 'tumor': 0.20458265139116202}"
      ]
     },
     "execution_count": 39,
     "metadata": {},
     "output_type": "execute_result"
    }
   ],
   "source": [
    "#probability for tumor\n",
    "a = 1\n",
    "for i in range(len(x_test)):\n",
    "    a=a*probabilities[f\"x{i+1}={x_test[i]}|y=tumor\"]\n",
    "#probability for normal\n",
    "b = 1\n",
    "for i in range(len(x_test)):\n",
    "    b=b*probabilities[f\"x{i+1}={x_test[i]}|y=normal\"]\n",
    "p_xtest = (b*(list(y_train).count('normal')/len(y_train)))+(a*(list(y_train).count('tumor')/len(y_train)))\n",
    "likelihood_prob = {}\n",
    "likelihood_prob['normal'] = (b*class_prob['normal'])/p_xtest\n",
    "likelihood_prob['tumor'] = (a*class_prob['tumor'])/p_xtest\n",
    "likelihood_prob"
   ]
  },
  {
   "cell_type": "code",
   "execution_count": 42,
   "id": "a2b0e601",
   "metadata": {},
   "outputs": [
    {
     "name": "stdout",
     "output_type": "stream",
     "text": [
      "normal\n"
     ]
    }
   ],
   "source": [
    "if likelihood_prob['normal']>likelihood_prob['tumor']:\n",
    "    print(\"normal\")\n",
    "else:\n",
    "    print(\"tumor\")"
   ]
  },
  {
   "cell_type": "markdown",
   "id": "9605f1d2",
   "metadata": {},
   "source": [
    "# SKLEARN"
   ]
  },
  {
   "cell_type": "code",
   "execution_count": 4,
   "id": "8a8467fd",
   "metadata": {},
   "outputs": [
    {
     "name": "stdout",
     "output_type": "stream",
     "text": [
      "['tumor']\n",
      "[[0.30518466 0.69481534]]\n",
      "1.0\n"
     ]
    }
   ],
   "source": [
    "from sklearn.naive_bayes import MultinomialNB\n",
    "MNBclf = MultinomialNB()\n",
    "MNBclf.fit(x_train,y_train)\n",
    "MultinomialNB(alpha = 1.0, class_prior = None, fit_prior = True)\n",
    "y_pred = MNBclf.predict(x_test.reshape(1,-1))\n",
    "print(y_pred)\n",
    "print(MNBclf.predict_proba(x_test.reshape(1,-1)))\n",
    "print(MNBclf.score(x_test.reshape(1,-1),y_pred))"
   ]
  }
 ],
 "metadata": {
  "kernelspec": {
   "display_name": "Python 3 (ipykernel)",
   "language": "python",
   "name": "python3"
  },
  "language_info": {
   "codemirror_mode": {
    "name": "ipython",
    "version": 3
   },
   "file_extension": ".py",
   "mimetype": "text/x-python",
   "name": "python",
   "nbconvert_exporter": "python",
   "pygments_lexer": "ipython3",
   "version": "3.9.15"
  }
 },
 "nbformat": 4,
 "nbformat_minor": 5
}
