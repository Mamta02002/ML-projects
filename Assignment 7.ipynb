{
 "cells": [
  {
   "cell_type": "markdown",
   "id": "d5831d1b",
   "metadata": {},
   "source": [
    "# ASSIGNMENT 7"
   ]
  },
  {
   "cell_type": "markdown",
   "id": "60572f7b",
   "metadata": {},
   "source": [
    "# Linear Regression using Gradient Descent"
   ]
  },
  {
   "cell_type": "code",
   "execution_count": 1,
   "id": "f29fce6e",
   "metadata": {},
   "outputs": [],
   "source": [
    "import numpy as np\n",
    "import pandas as pd\n",
    "import matplotlib.pyplot as plt"
   ]
  },
  {
   "cell_type": "code",
   "execution_count": 2,
   "id": "ef04f023",
   "metadata": {},
   "outputs": [],
   "source": [
    "#generating dataset\n",
    "def predictions(x,add_noise=False,mean =0,var = 0.25):\n",
    "    if not add_noise:\n",
    "        return x\n",
    "    return x+np.random.normal(mean,var,x.shape)\n",
    "x = np.linspace(-1,5,50)*1000"
   ]
  },
  {
   "cell_type": "code",
   "execution_count": 3,
   "id": "c5d53b51",
   "metadata": {
    "scrolled": true
   },
   "outputs": [],
   "source": [
    "#normalizing x\n",
    "x_transform = []\n",
    "for i in range(len(x)):\n",
    "    x_transform.append((x[i]-min(x))/(max(x)-min(x)))\n",
    "x_transform = np.array(x_transform)\n",
    "y = predictions(x_transform,True)"
   ]
  },
  {
   "cell_type": "code",
   "execution_count": 4,
   "id": "20dfa644",
   "metadata": {},
   "outputs": [
    {
     "data": {
      "image/png": "[encoded data removed]",
      "text/plain": [
       "<Figure size 432x288 with 1 Axes>"
      ]
     },
     "metadata": {
      "needs_background": "light"
     },
     "output_type": "display_data"
    }
   ],
   "source": [
    "plt.scatter(x_transform,y,color = \"green\")\n",
    "plt.plot(x_transform,x_transform,'bo--',linewidth = 3,markersize = 2,alpha = 0.5)\n",
    "plt.xlabel(\"x\")\n",
    "plt.ylabel(\"y\")\n",
    "plt.show()"
   ]
  },
  {
   "cell_type": "code",
   "execution_count": 5,
   "id": "62f682ef",
   "metadata": {},
   "outputs": [],
   "source": [
    "# Mean square error\n",
    "def mse(yt,yp):\n",
    "    return (np.sum((yt-yp)**2)/len(yt))\n",
    "\n",
    "def updates(yt,yp,x,lr,m,c):\n",
    "    m = m- lr*((-x)*(np.sum(yt-yp)/len(yt))*2)\n",
    "    c = c- lr*((-1)*(np.sum(yt-yp)/len(yt))*2)\n",
    "\n",
    "    return m,c"
   ]
  },
  {
   "cell_type": "code",
   "execution_count": 6,
   "id": "bc58aabd",
   "metadata": {},
   "outputs": [
    {
     "data": {
      "image/png": "[encoded data removed]",
      "text/plain": [
       "<Figure size 432x288 with 1 Axes>"
      ]
     },
     "metadata": {
      "needs_background": "light"
     },
     "output_type": "display_data"
    }
   ],
   "source": [
    "m,c = 10,0\n",
    "lr = 0.1\n",
    "total_loss = []\n",
    "for i in range(100):\n",
    "    yp = m*x_transform + c    \n",
    "    loss = mse(y,yp)\n",
    "    total_loss.append(loss)\n",
    "    m,c = updates(y,yp,x_transform,lr,m,c)\n",
    "plt.plot(x_transform,yp,label=i+1)\n",
    "\n",
    "plt.plot(x_transform,x_transform,color='green',marker='p')\n",
    "plt.show()"
   ]
  },
  {
   "cell_type": "code",
   "execution_count": 7,
   "id": "2e9c9b7a",
   "metadata": {},
   "outputs": [
    {
     "data": {
      "text/plain": [
       "(3.072758146830878, 27.939937256071506)"
      ]
     },
     "execution_count": 7,
     "metadata": {},
     "output_type": "execute_result"
    },
    {
     "data": {
      "image/png": "[encoded data removed]",
      "text/plain": [
       "<Figure size 432x288 with 1 Axes>"
      ]
     },
     "metadata": {
      "needs_background": "light"
     },
     "output_type": "display_data"
    }
   ],
   "source": [
    "plt.plot(total_loss)\n",
    "total_loss[-1], total_loss[0]"
   ]
  },
  {
   "cell_type": "markdown",
   "id": "dbceb583",
   "metadata": {},
   "source": [
    "# Linear Regression using Gradient Descent for housing data"
   ]
  },
  {
   "cell_type": "code",
   "execution_count": 27,
   "id": "9af1ca52",
   "metadata": {
    "scrolled": true
   },
   "outputs": [
    {
     "data": {
      "text/plain": [
       "(array([[6.3200e-03, 1.8000e+01, 2.3100e+00, ..., 1.5300e+01, 3.9690e+02,\n",
       "         4.9800e+00],\n",
       "        [2.7310e-02, 0.0000e+00, 7.0700e+00, ..., 1.7800e+01, 3.9690e+02,\n",
       "         9.1400e+00],\n",
       "        [2.7290e-02, 0.0000e+00, 7.0700e+00, ..., 1.7800e+01, 3.9283e+02,\n",
       "         4.0300e+00],\n",
       "        ...,\n",
       "        [6.0760e-02, 0.0000e+00, 1.1930e+01, ..., 2.1000e+01, 3.9690e+02,\n",
       "         5.6400e+00],\n",
       "        [1.0959e-01, 0.0000e+00, 1.1930e+01, ..., 2.1000e+01, 3.9345e+02,\n",
       "         6.4800e+00],\n",
       "        [4.7410e-02, 0.0000e+00, 1.1930e+01, ..., 2.1000e+01, 3.9690e+02,\n",
       "         7.8800e+00]]),\n",
       " array([24. , 21.6, 34.7, 33.4, 36.2, 28.7, 22.9, 27.1, 16.5, 18.9, 15. ,\n",
       "        18.9, 21.7, 20.4, 18.2, 19.9, 23.1, 17.5, 20.2, 18.2, 13.6, 19.6,\n",
       "        15.2, 14.5, 15.6, 13.9, 16.6, 14.8, 18.4, 21. , 12.7, 14.5, 13.2,\n",
       "        13.1, 13.5, 18.9, 20. , 21. , 24.7, 30.8, 34.9, 26.6, 25.3, 24.7,\n",
       "        21.2, 19.3, 20. , 16.6, 14.4, 19.4, 19.7, 20.5, 25. , 23.4, 18.9,\n",
       "        35.4, 24.7, 31.6, 23.3, 19.6, 18.7, 16. , 22.2, 25. , 33. , 23.5,\n",
       "        19.4, 22. , 17.4, 20.9, 24.2, 21.7, 22.8, 23.4, 24.1, 21.4, 20. ,\n",
       "        20.8, 21.2, 20.3, 28. , 23.9, 24.8, 22.9, 23.9, 26.6, 22.5, 22.2,\n",
       "        23.6, 28.7, 22.6, 22. , 22.9, 25. , 20.6, 28.4, 21.4, 38.7, 43.8,\n",
       "        33.2, 27.5, 26.5, 18.6, 19.3, 20.1, 19.5, 19.5, 20.4, 19.8, 19.4,\n",
       "        21.7, 22.8, 18.8, 18.7, 18.5, 18.3, 21.2, 19.2, 20.4, 19.3, 22. ,\n",
       "        20.3, 20.5, 17.3, 18.8, 21.4, 15.7, 16.2, 18. , 14.3, 19.2, 19.6,\n",
       "        23. , 18.4, 15.6, 18.1, 17.4, 17.1, 13.3, 17.8, 14. , 14.4, 13.4,\n",
       "        15.6, 11.8, 13.8, 15.6, 14.6, 17.8, 15.4, 21.5, 19.6, 15.3, 19.4,\n",
       "        17. , 15.6, 13.1, 41.3, 24.3, 23.3, 27. , 50. , 50. , 50. , 22.7,\n",
       "        25. , 50. , 23.8, 23.8, 22.3, 17.4, 19.1, 23.1, 23.6, 22.6, 29.4,\n",
       "        23.2, 24.6, 29.9, 37.2, 39.8, 36.2, 37.9, 32.5, 26.4, 29.6, 50. ,\n",
       "        32. , 29.8, 34.9, 37. , 30.5, 36.4, 31.1, 29.1, 50. , 33.3, 30.3,\n",
       "        34.6, 34.9, 32.9, 24.1, 42.3, 48.5, 50. , 22.6, 24.4, 22.5, 24.4,\n",
       "        20. , 21.7, 19.3, 22.4, 28.1, 23.7, 25. , 23.3, 28.7, 21.5, 23. ,\n",
       "        26.7, 21.7, 27.5, 30.1, 44.8, 50. , 37.6, 31.6, 46.7, 31.5, 24.3,\n",
       "        31.7, 41.7, 48.3, 29. , 24. , 25.1, 31.5, 23.7, 23.3, 22. , 20.1,\n",
       "        22.2, 23.7, 17.6, 18.5, 24.3, 20.5, 24.5, 26.2, 24.4, 24.8, 29.6,\n",
       "        42.8, 21.9, 20.9, 44. , 50. , 36. , 30.1, 33.8, 43.1, 48.8, 31. ,\n",
       "        36.5, 22.8, 30.7, 50. , 43.5, 20.7, 21.1, 25.2, 24.4, 35.2, 32.4,\n",
       "        32. , 33.2, 33.1, 29.1, 35.1, 45.4, 35.4, 46. , 50. , 32.2, 22. ,\n",
       "        20.1, 23.2, 22.3, 24.8, 28.5, 37.3, 27.9, 23.9, 21.7, 28.6, 27.1,\n",
       "        20.3, 22.5, 29. , 24.8, 22. , 26.4, 33.1, 36.1, 28.4, 33.4, 28.2,\n",
       "        22.8, 20.3, 16.1, 22.1, 19.4, 21.6, 23.8, 16.2, 17.8, 19.8, 23.1,\n",
       "        21. , 23.8, 23.1, 20.4, 18.5, 25. , 24.6, 23. , 22.2, 19.3, 22.6,\n",
       "        19.8, 17.1, 19.4, 22.2, 20.7, 21.1, 19.5, 18.5, 20.6, 19. , 18.7,\n",
       "        32.7, 16.5, 23.9, 31.2, 17.5, 17.2, 23.1, 24.5, 26.6, 22.9, 24.1,\n",
       "        18.6, 30.1, 18.2, 20.6, 17.8, 21.7, 22.7, 22.6, 25. , 19.9, 20.8,\n",
       "        16.8, 21.9, 27.5, 21.9, 23.1, 50. , 50. , 50. , 50. , 50. , 13.8,\n",
       "        13.8, 15. , 13.9, 13.3, 13.1, 10.2, 10.4, 10.9, 11.3, 12.3,  8.8,\n",
       "         7.2, 10.5,  7.4, 10.2, 11.5, 15.1, 23.2,  9.7, 13.8, 12.7, 13.1,\n",
       "        12.5,  8.5,  5. ,  6.3,  5.6,  7.2, 12.1,  8.3,  8.5,  5. , 11.9,\n",
       "        27.9, 17.2, 27.5, 15. , 17.2, 17.9, 16.3,  7. ,  7.2,  7.5, 10.4,\n",
       "         8.8,  8.4, 16.7, 14.2, 20.8, 13.4, 11.7,  8.3, 10.2, 10.9, 11. ,\n",
       "         9.5, 14.5, 14.1, 16.1, 14.3, 11.7, 13.4,  9.6,  8.7,  8.4, 12.8,\n",
       "        10.5, 17.1, 18.4, 15.4, 10.8, 11.8, 14.9, 12.6, 14.1, 13. , 13.4,\n",
       "        15.2, 16.1, 17.8, 14.9, 14.1, 12.7, 13.5, 14.9, 20. , 16.4, 17.7,\n",
       "        19.5, 20.2, 21.4, 19.9, 19. , 19.1, 19.1, 20.1, 19.9, 19.6, 23.2,\n",
       "        29.8, 13.8, 13.3, 16.7, 12. , 14.6, 21.4, 23. , 23.7, 25. , 21.8,\n",
       "        20.6, 21.2, 19.1, 20.6, 15.2,  7. ,  8.1, 13.6, 20.1, 21.8, 24.5,\n",
       "        23.1, 19.7, 18.3, 21.2, 17.5, 16.8, 22.4, 20.6, 23.9, 22. , 11.9]))"
      ]
     },
     "execution_count": 27,
     "metadata": {},
     "output_type": "execute_result"
    }
   ],
   "source": [
    "#applying linear regression on boston housing dataset\n",
    "from sklearn.datasets import load_boston\n",
    "boston_dataset = load_boston()\n",
    "X = boston_dataset.data\n",
    "Y = boston_dataset.target\n",
    "X,Y"
   ]
  },
  {
   "cell_type": "code",
   "execution_count": 9,
   "id": "1b5405ed",
   "metadata": {},
   "outputs": [
    {
     "data": {
      "text/plain": [
       "(506, 13)"
      ]
     },
     "execution_count": 9,
     "metadata": {},
     "output_type": "execute_result"
    }
   ],
   "source": [
    "X.shape"
   ]
  },
  {
   "cell_type": "code",
   "execution_count": 10,
   "id": "b68be732",
   "metadata": {},
   "outputs": [],
   "source": [
    "#Normalizing the features\n",
    "from sklearn.preprocessing import StandardScaler\n",
    "sc = StandardScaler()\n",
    "X_transform = sc.fit_transform(X)"
   ]
  },
  {
   "cell_type": "code",
   "execution_count": 11,
   "id": "1266c69a",
   "metadata": {
    "scrolled": true
   },
   "outputs": [
    {
     "data": {
      "text/plain": [
       "(array([[ 7.48364564, -0.48772236,  1.01599907, ...,  0.80657583,\n",
       "          0.31024714,  1.4475658 ],\n",
       "        [ 1.99029374, -0.48772236,  1.01599907, ...,  0.80657583,\n",
       "          0.14852285,  1.49802836],\n",
       "        [ 0.97027072, -0.48772236,  1.01599907, ...,  0.80657583,\n",
       "         -0.26954813, -0.07331975],\n",
       "        ...,\n",
       "        [-0.41344658, -0.48772236,  0.11573841, ...,  1.17646583,\n",
       "          0.44105193, -0.98304761],\n",
       "        [-0.40776407, -0.48772236,  0.11573841, ...,  1.17646583,\n",
       "          0.4032249 , -0.86530163],\n",
       "        [-0.41500016, -0.48772236,  0.11573841, ...,  1.17646583,\n",
       "          0.44105193, -0.66905833]]),\n",
       " array([ 5. , 11.9, 27.9, 17.2, 27.5, 15. , 17.2, 17.9, 16.3,  7. ,  7.2,\n",
       "         7.5, 10.4,  8.8,  8.4, 16.7, 14.2, 20.8, 13.4, 11.7,  8.3, 10.2,\n",
       "        10.9, 11. ,  9.5, 14.5, 14.1, 16.1, 14.3, 11.7, 13.4,  9.6,  8.7,\n",
       "         8.4, 12.8, 10.5, 17.1, 18.4, 15.4, 10.8, 11.8, 14.9, 12.6, 14.1,\n",
       "        13. , 13.4, 15.2, 16.1, 17.8, 14.9, 14.1, 12.7, 13.5, 14.9, 20. ,\n",
       "        16.4, 17.7, 19.5, 20.2, 21.4, 19.9, 19. , 19.1, 19.1, 20.1, 19.9,\n",
       "        19.6, 23.2, 29.8, 13.8, 13.3, 16.7, 12. , 14.6, 21.4, 23. , 23.7,\n",
       "        25. , 21.8, 20.6, 21.2, 19.1, 20.6, 15.2,  7. ,  8.1, 13.6, 20.1,\n",
       "        21.8, 24.5, 23.1, 19.7, 18.3, 21.2, 17.5, 16.8, 22.4, 20.6, 23.9,\n",
       "        22. , 11.9]))"
      ]
     },
     "execution_count": 11,
     "metadata": {},
     "output_type": "execute_result"
    }
   ],
   "source": [
    "#splitting test and train data\n",
    "test_train_ratio = 0.2\n",
    "num_testing_example = int(test_train_ratio*(X.shape[0]))\n",
    "num_training_example = X.shape[0]-num_testing_example\n",
    "X_train = X_transform[:num_training_example]\n",
    "Y_train = Y[:num_training_example]\n",
    "X_test = X_transform[num_training_example:]\n",
    "Y_test = Y[num_training_example:]\n",
    "X_test,Y_test"
   ]
  },
  {
   "cell_type": "code",
   "execution_count": 12,
   "id": "6924f404",
   "metadata": {},
   "outputs": [],
   "source": [
    "#initializing the variables\n",
    "weight_vector = np.random.randn(X.shape[1])\n",
    "intercept = 0\n",
    "learning_rate = 0.001"
   ]
  },
  {
   "cell_type": "code",
   "execution_count": 13,
   "id": "aafaa622",
   "metadata": {},
   "outputs": [],
   "source": [
    "#creating the MSE loss function\n",
    "def loss(y,y_predicted):\n",
    "    s = 0\n",
    "    n = len(y)\n",
    "    for i in range(n):\n",
    "        s+=(y[i]-y_predicted[i])**2\n",
    "    return (1/n)*s"
   ]
  },
  {
   "cell_type": "code",
   "execution_count": 14,
   "id": "a35197bb",
   "metadata": {},
   "outputs": [],
   "source": [
    "#create function to predict y\n",
    "def predicted_y(weight,x,intercept):\n",
    "    y_list = []\n",
    "    for i in range(len(x)):  \n",
    "        y_list.append((weight@x[i])+intercept)\n",
    "    return np.array(y_list)"
   ]
  },
  {
   "cell_type": "code",
   "execution_count": 15,
   "id": "1b5e60e5",
   "metadata": {},
   "outputs": [],
   "source": [
    "#create function to differentiate weight\n",
    "def dldw(x,y,y_predicted):\n",
    "    n = len(y)\n",
    "    s = 0\n",
    "    for i in range(n):\n",
    "        s+= (-x[i]*(y[i]-y_predicted[i]))\n",
    "    return (2/n)*s"
   ]
  },
  {
   "cell_type": "code",
   "execution_count": 16,
   "id": "52504987",
   "metadata": {},
   "outputs": [],
   "source": [
    "#create function to differentiate intercept\n",
    "def dldb(y,y_predicted):\n",
    "    n = len(y)\n",
    "    s = 0\n",
    "    for i in range(n):\n",
    "        s+= (-(y[i]-y_predicted[i]))\n",
    "    return (2/n)*s"
   ]
  },
  {
   "cell_type": "code",
   "execution_count": 17,
   "id": "158d7b78",
   "metadata": {},
   "outputs": [],
   "source": [
    "# gradient function\n",
    "def gradient_descent(x,y):\n",
    "    weight_vector=np.random.randn(x.shape[1])\n",
    "    intercept=0\n",
    "    epoch = 10000\n",
    "    n = len(x)\n",
    "    linear_loss=[]\n",
    "    learning_rate = 0.001\n",
    "    for i in range(epoch):\n",
    "        y_predicted = predicted_y(weight_vector,x,intercept)\n",
    "        weight_vector = weight_vector - learning_rate *dldw(x,y,y_predicted) \n",
    "        intercept = intercept - learning_rate * dldb(y,y_predicted)\n",
    "        linear_loss.append(loss(y,y_predicted))\n",
    "        \n",
    "    plt.plot(np.arange(epoch),linear_loss[:])\n",
    "    plt.xlabel(\"number of epoch\")\n",
    "    plt.ylabel(\"loss\")\n",
    "    return weight_vector,intercept"
   ]
  },
  {
   "cell_type": "code",
   "execution_count": 18,
   "id": "46dc2c4f",
   "metadata": {},
   "outputs": [
    {
     "data": {
      "text/plain": [
       "array([-0.37316438,  0.15858296, -0.07100309, -0.13615487,  0.17524465,\n",
       "        0.47273977,  1.13004013,  0.4279629 ,  0.57078678, -1.09588025,\n",
       "       -1.11350333, -0.17160029,  1.82242288])"
      ]
     },
     "execution_count": 18,
     "metadata": {},
     "output_type": "execute_result"
    }
   ],
   "source": [
    "weight_vector"
   ]
  },
  {
   "cell_type": "code",
   "execution_count": 19,
   "id": "1f7264ea",
   "metadata": {
    "scrolled": true
   },
   "outputs": [
    {
     "data": {
      "image/png": "[encoded data removed]",
      "text/plain": [
       "<Figure size 432x288 with 1 Axes>"
      ]
     },
     "metadata": {
      "needs_background": "light"
     },
     "output_type": "display_data"
    }
   ],
   "source": [
    "w,b=gradient_descent(X_train,Y_train)"
   ]
  },
  {
   "cell_type": "code",
   "execution_count": 20,
   "id": "03fba7c8",
   "metadata": {},
   "outputs": [],
   "source": [
    "def predict(inp):\n",
    "    y_list = []\n",
    "    for i in range(len(inp)):\n",
    "        y_list.append(w@inp[i]+b)\n",
    "    return y_list"
   ]
  },
  {
   "cell_type": "code",
   "execution_count": 21,
   "id": "927f8977",
   "metadata": {
    "scrolled": true
   },
   "outputs": [
    {
     "data": {
      "text/plain": [
       "[5.417246583375647,\n",
       " 6.410355023579992,\n",
       " 20.654576105118075,\n",
       " 14.16833290262593,\n",
       " 21.895989052408762,\n",
       " 15.146930885068853,\n",
       " 19.58400936958085,\n",
       " 1.9449314865620195,\n",
       " 11.254964466377096,\n",
       " -5.518099856674084,\n",
       " 12.204812091999024,\n",
       " 16.82799976951012,\n",
       " 7.461520787756303,\n",
       " 5.244974104457473,\n",
       " 18.185542953120795,\n",
       " 21.564853525069584,\n",
       " 19.928890538697132,\n",
       " 19.27134857476513,\n",
       " 16.016997037399722,\n",
       " 16.786750120070085,\n",
       " 12.363502004074684,\n",
       " 18.462781265802246,\n",
       " 15.623457767451567,\n",
       " 17.06785689004204,\n",
       " 16.065402159192296,\n",
       " 20.6539624899173,\n",
       " 21.540693088094777,\n",
       " 24.265989220248315,\n",
       " 20.527899984695942,\n",
       " 18.747727782190456,\n",
       " 16.6597285602193,\n",
       " 17.964763145233963,\n",
       " 11.857544897172724,\n",
       " 7.324482334104271,\n",
       " 13.961520895480328,\n",
       " 13.088358044916822,\n",
       " 19.076190469344674,\n",
       " 20.57107920239355,\n",
       " 19.890826138750935,\n",
       " 13.242693229302034,\n",
       " 15.449512321685097,\n",
       " 19.991777945776946,\n",
       " 19.815374300475373,\n",
       " 18.960353532466552,\n",
       " 19.444844785673617,\n",
       " 20.752277732310084,\n",
       " 21.773337055035007,\n",
       " 20.47782324360197,\n",
       " 25.313871911608913,\n",
       " 19.30400994408895,\n",
       " 19.699002892337028,\n",
       " 16.27454872935909,\n",
       " 16.32918762751185,\n",
       " 19.620091801264785,\n",
       " 20.15451824725673,\n",
       " 22.083768711320822,\n",
       " 22.27698708435134,\n",
       " 21.664320022458853,\n",
       " 24.64921323190368,\n",
       " 21.754525661494718,\n",
       " 19.500601326068523,\n",
       " 17.68146344633482,\n",
       " 18.09208183629555,\n",
       " 17.30594939674542,\n",
       " 18.748999545399162,\n",
       " 21.290064492941532,\n",
       " 23.976812006059138,\n",
       " 23.90497716655602,\n",
       " 27.750380397391492,\n",
       " 16.697057808657384,\n",
       " 17.324800667202872,\n",
       " 21.94458071394572,\n",
       " 11.32980284887686,\n",
       " 20.085981893024034,\n",
       " 22.56618744491096,\n",
       " 24.46743495564852,\n",
       " 28.640914855541915,\n",
       " 30.42279405786553,\n",
       " 21.96355349333757,\n",
       " 20.75406226833179,\n",
       " 23.87191741295761,\n",
       " 20.8138542319564,\n",
       " 22.339785218427068,\n",
       " 12.595954477829725,\n",
       " 9.075514861499373,\n",
       " 4.257613749074849,\n",
       " 15.0395694156531,\n",
       " 17.305204794115568,\n",
       " 20.594559240101685,\n",
       " 20.753681077195296,\n",
       " 16.82093816550406,\n",
       " 13.599065853777356,\n",
       " 19.22021424356423,\n",
       " 21.548591901870985,\n",
       " 18.24881374846703,\n",
       " 20.72195122864896,\n",
       " 24.281034462643525,\n",
       " 22.62256201854307,\n",
       " 28.72257457645106,\n",
       " 27.095033458487833,\n",
       " 22.57012425845479]"
      ]
     },
     "execution_count": 21,
     "metadata": {},
     "output_type": "execute_result"
    }
   ],
   "source": [
    "y_pred = predict(X_test)\n",
    "y_pred"
   ]
  },
  {
   "cell_type": "code",
   "execution_count": 22,
   "id": "203cd229",
   "metadata": {},
   "outputs": [
    {
     "data": {
      "text/html": [
       "<div>\n",
       "<style scoped>\n",
       "    .dataframe tbody tr th:only-of-type {\n",
       "        vertical-align: middle;\n",
       "    }\n",
       "\n",
       "    .dataframe tbody tr th {\n",
       "        vertical-align: top;\n",
       "    }\n",
       "\n",
       "    .dataframe thead th {\n",
       "        text-align: right;\n",
       "    }\n",
       "</style>\n",
       "<table border=\"1\" class=\"dataframe\">\n",
       "  <thead>\n",
       "    <tr style=\"text-align: right;\">\n",
       "      <th></th>\n",
       "      <th>Y_Actual</th>\n",
       "      <th>Y_predicted</th>\n",
       "    </tr>\n",
       "  </thead>\n",
       "  <tbody>\n",
       "    <tr>\n",
       "      <th>0</th>\n",
       "      <td>5.0</td>\n",
       "      <td>5.4</td>\n",
       "    </tr>\n",
       "    <tr>\n",
       "      <th>1</th>\n",
       "      <td>11.9</td>\n",
       "      <td>6.4</td>\n",
       "    </tr>\n",
       "    <tr>\n",
       "      <th>2</th>\n",
       "      <td>27.9</td>\n",
       "      <td>20.7</td>\n",
       "    </tr>\n",
       "    <tr>\n",
       "      <th>3</th>\n",
       "      <td>17.2</td>\n",
       "      <td>14.2</td>\n",
       "    </tr>\n",
       "    <tr>\n",
       "      <th>4</th>\n",
       "      <td>27.5</td>\n",
       "      <td>21.9</td>\n",
       "    </tr>\n",
       "    <tr>\n",
       "      <th>...</th>\n",
       "      <td>...</td>\n",
       "      <td>...</td>\n",
       "    </tr>\n",
       "    <tr>\n",
       "      <th>96</th>\n",
       "      <td>22.4</td>\n",
       "      <td>24.3</td>\n",
       "    </tr>\n",
       "    <tr>\n",
       "      <th>97</th>\n",
       "      <td>20.6</td>\n",
       "      <td>22.6</td>\n",
       "    </tr>\n",
       "    <tr>\n",
       "      <th>98</th>\n",
       "      <td>23.9</td>\n",
       "      <td>28.7</td>\n",
       "    </tr>\n",
       "    <tr>\n",
       "      <th>99</th>\n",
       "      <td>22.0</td>\n",
       "      <td>27.1</td>\n",
       "    </tr>\n",
       "    <tr>\n",
       "      <th>100</th>\n",
       "      <td>11.9</td>\n",
       "      <td>22.6</td>\n",
       "    </tr>\n",
       "  </tbody>\n",
       "</table>\n",
       "<p>101 rows × 2 columns</p>\n",
       "</div>"
      ],
      "text/plain": [
       "     Y_Actual  Y_predicted\n",
       "0         5.0          5.4\n",
       "1        11.9          6.4\n",
       "2        27.9         20.7\n",
       "3        17.2         14.2\n",
       "4        27.5         21.9\n",
       "..        ...          ...\n",
       "96       22.4         24.3\n",
       "97       20.6         22.6\n",
       "98       23.9         28.7\n",
       "99       22.0         27.1\n",
       "100      11.9         22.6\n",
       "\n",
       "[101 rows x 2 columns]"
      ]
     },
     "execution_count": 22,
     "metadata": {},
     "output_type": "execute_result"
    }
   ],
   "source": [
    "df_predict = pd.DataFrame({\"Y_Actual\":Y_test,\"Y_predicted\":np.round(y_pred,1)})\n",
    "df_predict"
   ]
  },
  {
   "cell_type": "code",
   "execution_count": 1,
   "id": "8b76eef7",
   "metadata": {},
   "outputs": [
    {
     "ename": "NameError",
     "evalue": "name 'x' is not defined",
     "output_type": "error",
     "traceback": [
      "\u001b[1;31m---------------------------------------------------------------------------\u001b[0m",
      "\u001b[1;31mNameError\u001b[0m                                 Traceback (most recent call last)",
      "Cell \u001b[1;32mIn[1], line 2\u001b[0m\n\u001b[0;32m      1\u001b[0m x_transform \u001b[38;5;241m=\u001b[39m []\n\u001b[1;32m----> 2\u001b[0m \u001b[38;5;28;01mfor\u001b[39;00m i \u001b[38;5;129;01min\u001b[39;00m \u001b[38;5;28mrange\u001b[39m(\u001b[43mx\u001b[49m\u001b[38;5;241m.\u001b[39mshape[\u001b[38;5;241m1\u001b[39m]):\n\u001b[0;32m      3\u001b[0m     x_transform\u001b[38;5;241m.\u001b[39mappend((x[:,i]\u001b[38;5;241m-\u001b[39m\u001b[38;5;28mmin\u001b[39m(x[:,i]))\u001b[38;5;241m/\u001b[39m(\u001b[38;5;28mmax\u001b[39m(x[:,i])\u001b[38;5;241m-\u001b[39m\u001b[38;5;28mmin\u001b[39m(x[:,i])))\n\u001b[0;32m      4\u001b[0m x_transform \u001b[38;5;241m=\u001b[39m np\u001b[38;5;241m.\u001b[39marray(x_transform)\n",
      "\u001b[1;31mNameError\u001b[0m: name 'x' is not defined"
     ]
    }
   ],
   "source": [
    "x_transform = []\n",
    "for i in range(x.shape[1]):\n",
    "    x_transform.append((x[:,i]-min(x[:,i]))/(max(x[:,i])-min(x[:,i])))\n",
    "x_transform = np.array(x_transform)\n",
    "y = predictions(x_transform,True)"
   ]
  },
  {
   "cell_type": "code",
   "execution_count": 23,
   "id": "539ec8f0",
   "metadata": {},
   "outputs": [
    {
     "data": {
      "text/plain": [
       "24.35425488852921"
      ]
     },
     "execution_count": 23,
     "metadata": {},
     "output_type": "execute_result"
    }
   ],
   "source": [
    "loss(Y_test,y_pred)"
   ]
  },
  {
   "cell_type": "code",
   "execution_count": 24,
   "id": "80ac6be4",
   "metadata": {},
   "outputs": [
    {
     "data": {
      "text/plain": [
       "0.45046800249310065"
      ]
     },
     "execution_count": 24,
     "metadata": {},
     "output_type": "execute_result"
    }
   ],
   "source": [
    "def accuracy(actual,predicted):\n",
    "    corr_matrix = np.corrcoef(actual,predicted)\n",
    "    corr = corr_matrix[0,1]\n",
    "    R2 = corr**2\n",
    "    return R2\n",
    "accuracy(Y_test,y_pred)"
   ]
  },
  {
   "cell_type": "code",
   "execution_count": 25,
   "id": "a5c8ff34",
   "metadata": {},
   "outputs": [
    {
     "data": {
      "text/plain": [
       "0.08402419593901456"
      ]
     },
     "execution_count": 25,
     "metadata": {},
     "output_type": "execute_result"
    }
   ],
   "source": [
    "from sklearn.metrics import r2_score\n",
    "r2_score(Y_test,y_pred)"
   ]
  }
 ],
 "metadata": {
  "kernelspec": {
   "display_name": "Python 3 (ipykernel)",
   "language": "python",
   "name": "python3"
  },
  "language_info": {
   "codemirror_mode": {
    "name": "ipython",
    "version": 3
   },
   "file_extension": ".py",
   "mimetype": "text/x-python",
   "name": "python",
   "nbconvert_exporter": "python",
   "pygments_lexer": "ipython3",
   "version": "3.9.15"
  }
 },
 "nbformat": 4,
 "nbformat_minor": 5
}
