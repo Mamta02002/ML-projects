{
 "cells": [
  {
   "cell_type": "markdown",
   "id": "d2afb879",
   "metadata": {},
   "source": [
    "# IRIS DATASET"
   ]
  },
  {
   "cell_type": "markdown",
   "id": "d056ba21",
   "metadata": {},
   "source": [
    "# Logistic Regression from scratch"
   ]
  },
  {
   "cell_type": "code",
   "execution_count": 1,
   "id": "392b16c9",
   "metadata": {},
   "outputs": [
    {
     "data": {
      "text/html": [
       "<div>\n",
       "<style scoped>\n",
       "    .dataframe tbody tr th:only-of-type {\n",
       "        vertical-align: middle;\n",
       "    }\n",
       "\n",
       "    .dataframe tbody tr th {\n",
       "        vertical-align: top;\n",
       "    }\n",
       "\n",
       "    .dataframe thead th {\n",
       "        text-align: right;\n",
       "    }\n",
       "</style>\n",
       "<table border=\"1\" class=\"dataframe\">\n",
       "  <thead>\n",
       "    <tr style=\"text-align: right;\">\n",
       "      <th></th>\n",
       "      <th>sepal_length</th>\n",
       "      <th>sepal_width</th>\n",
       "      <th>petal_length</th>\n",
       "      <th>petal_width</th>\n",
       "      <th>species</th>\n",
       "    </tr>\n",
       "  </thead>\n",
       "  <tbody>\n",
       "    <tr>\n",
       "      <th>0</th>\n",
       "      <td>5.1</td>\n",
       "      <td>3.5</td>\n",
       "      <td>1.4</td>\n",
       "      <td>0.2</td>\n",
       "      <td>Iris-setosa</td>\n",
       "    </tr>\n",
       "    <tr>\n",
       "      <th>1</th>\n",
       "      <td>4.9</td>\n",
       "      <td>3.0</td>\n",
       "      <td>1.4</td>\n",
       "      <td>0.2</td>\n",
       "      <td>Iris-setosa</td>\n",
       "    </tr>\n",
       "    <tr>\n",
       "      <th>2</th>\n",
       "      <td>4.7</td>\n",
       "      <td>3.2</td>\n",
       "      <td>1.3</td>\n",
       "      <td>0.2</td>\n",
       "      <td>Iris-setosa</td>\n",
       "    </tr>\n",
       "    <tr>\n",
       "      <th>3</th>\n",
       "      <td>4.6</td>\n",
       "      <td>3.1</td>\n",
       "      <td>1.5</td>\n",
       "      <td>0.2</td>\n",
       "      <td>Iris-setosa</td>\n",
       "    </tr>\n",
       "    <tr>\n",
       "      <th>4</th>\n",
       "      <td>5.0</td>\n",
       "      <td>3.6</td>\n",
       "      <td>1.4</td>\n",
       "      <td>0.2</td>\n",
       "      <td>Iris-setosa</td>\n",
       "    </tr>\n",
       "  </tbody>\n",
       "</table>\n",
       "</div>"
      ],
      "text/plain": [
       "   sepal_length  sepal_width  petal_length  petal_width      species\n",
       "0           5.1          3.5           1.4          0.2  Iris-setosa\n",
       "1           4.9          3.0           1.4          0.2  Iris-setosa\n",
       "2           4.7          3.2           1.3          0.2  Iris-setosa\n",
       "3           4.6          3.1           1.5          0.2  Iris-setosa\n",
       "4           5.0          3.6           1.4          0.2  Iris-setosa"
      ]
     },
     "execution_count": 1,
     "metadata": {},
     "output_type": "execute_result"
    }
   ],
   "source": [
    "#importing the dataset\n",
    "import pandas as pd\n",
    "import numpy as np\n",
    "import matplotlib.pyplot as plt\n",
    "data = pd.read_csv(r'C:\\Users\\naren\\Desktop\\DESKTOP MAMTA\\STUDY BSC DATA ANALYTICS\\semester 3 bsc Data Analytics\\ML\\IRIS.csv')\n",
    "data.head() "
   ]
  },
  {
   "cell_type": "code",
   "execution_count": 2,
   "id": "dc93551e",
   "metadata": {},
   "outputs": [],
   "source": [
    "#encoding the target variables (setosa: 0,versicolor: 1,viginica: 2)\n",
    "keys = data['species'].unique()\n",
    "values = [i for i in range(len(keys))]\n",
    "mapping = dict(zip(keys,values))\n",
    "data['species'] = data['species'].replace(keys,values)"
   ]
  },
  {
   "cell_type": "code",
   "execution_count": 3,
   "id": "b60c0cc8",
   "metadata": {},
   "outputs": [],
   "source": [
    "#shuffling the data\n",
    "data = data.to_numpy()\n",
    "np.random.shuffle(data)"
   ]
  },
  {
   "cell_type": "code",
   "execution_count": 4,
   "id": "67eaef13",
   "metadata": {},
   "outputs": [],
   "source": [
    "#splitting training and testing dataset\n",
    "X = data[:,:-1]\n",
    "Y = data[:,-1]\n",
    "test_train_ratio = 0.2\n",
    "num_testing_example = int(test_train_ratio*(X.shape[0]))\n",
    "num_training_example = X.shape[0]-num_testing_example\n",
    "X_train = X[:num_training_example]\n",
    "Y_train = Y[:num_training_example]\n",
    "X_test = X[num_training_example:]\n",
    "Y_test = Y[num_training_example:]"
   ]
  },
  {
   "cell_type": "code",
   "execution_count": 5,
   "id": "f47050a9",
   "metadata": {},
   "outputs": [],
   "source": [
    "def hypothesis(theta, X):\n",
    "    return 1 / (1 + np.exp(-(np.dot(theta, X.T)))) - 0.0000001"
   ]
  },
  {
   "cell_type": "code",
   "execution_count": 6,
   "id": "edb9fc06",
   "metadata": {},
   "outputs": [],
   "source": [
    "def cost(X, y, theta):\n",
    "    y1 = hypothesis(X, theta)\n",
    "    return -(1/len(X)) * np.sum(y*np.log(y1) + (1-y)*np.log(1-y1))\n"
   ]
  },
  {
   "cell_type": "code",
   "execution_count": 7,
   "id": "cc911310",
   "metadata": {},
   "outputs": [],
   "source": [
    "X = np.concatenate((np.ones((len(X_train),1)), X_train), axis=1)\n",
    "y = Y_train\n",
    "y1 = np.zeros([X_train.shape[0], len(np.unique(y))])\n",
    "for i in range(0, len(np.unique(y))):\n",
    "    for j in range(0, len(y1)):\n",
    "        if y[j] == np.unique(y)[i]:\n",
    "            y1[j, i] = 1\n",
    "        else: \n",
    "            y1[j, i] = 0\n"
   ]
  },
  {
   "cell_type": "code",
   "execution_count": 8,
   "id": "42f2be2b",
   "metadata": {},
   "outputs": [],
   "source": [
    "def gradient_descent(X, y, theta, alpha, epochs):\n",
    "    m = len(X)\n",
    "    for i in range(0, epochs):\n",
    "        for j in range(0,3):\n",
    "            theta = np.array(theta)\n",
    "            h = hypothesis(theta[:,j], X)\n",
    "            for k in range(0, theta.shape[0]):\n",
    "                theta[k, j] -= (alpha/m) * np.sum((h-y[:, j])*X[:, k])\n",
    "    return theta, cost"
   ]
  },
  {
   "cell_type": "code",
   "execution_count": 9,
   "id": "c34e0417",
   "metadata": {},
   "outputs": [
    {
     "data": {
      "text/plain": [
       "(array([[ 0.56095567,  0.67911236, -2.24807512],\n",
       "        [ 1.82630557, -1.56331149, -2.02771085],\n",
       "        [-2.80837617,  0.41949789,  3.13243113],\n",
       "        [-1.26202543, -1.34822341,  2.7816516 ]]),\n",
       " <function __main__.cost(X, y, theta)>)"
      ]
     },
     "execution_count": 9,
     "metadata": {},
     "output_type": "execute_result"
    }
   ],
   "source": [
    "theta = np.zeros([X_train.shape[1], y1.shape[1]])\n",
    "theta = gradient_descent(X_train, y1, theta, 0.001, 100000)\n",
    "theta"
   ]
  },
  {
   "cell_type": "code",
   "execution_count": null,
   "id": "17920a75",
   "metadata": {},
   "outputs": [],
   "source": []
  },
  {
   "cell_type": "code",
   "execution_count": 10,
   "id": "4bce2d62",
   "metadata": {},
   "outputs": [],
   "source": [
    "output = []\n",
    "for i in range(0,3):\n",
    "    h = hypothesis(theta[0][:,i], X_test)\n",
    "    output.append(h)"
   ]
  },
  {
   "cell_type": "code",
   "execution_count": 11,
   "id": "91034c32",
   "metadata": {},
   "outputs": [
    {
     "data": {
      "text/plain": [
       "0.7666666666666667"
      ]
     },
     "execution_count": 11,
     "metadata": {},
     "output_type": "execute_result"
    }
   ],
   "source": [
    "y = Y_test\n",
    "y2 = np.zeros([X_test.shape[0], len(np.unique(y))])\n",
    "for i in range(0, len(np.unique(y))):\n",
    "    for j in range(0, len(y2)):\n",
    "        if y[j] == np.unique(y)[i]:\n",
    "            y2[j, i] = 1\n",
    "        else: \n",
    "            y2[j, i] = 0\n",
    "accuracy = 0\n",
    "y_pred = []\n",
    "for col in range(0,3):\n",
    "    for row in range(len(y2)):\n",
    "        if y2[row, col] == 1 and output[col][row] >= 0.5:\n",
    "            accuracy += 1\n",
    "accuracy = accuracy/len(X_test)\n",
    "accuracy"
   ]
  },
  {
   "cell_type": "code",
   "execution_count": 12,
   "id": "5090d8dd",
   "metadata": {},
   "outputs": [],
   "source": [
    "def y_change(y, cl):\n",
    "    y_pr=[]\n",
    "    for i in range(0, len(y)):\n",
    "        if y[i] == cl:\n",
    "            y_pr.append(1)\n",
    "        else:\n",
    "            y_pr.append(0)\n",
    "    return y_pr\n",
    "y_pred =[0]*len(y)\n",
    "y_uniq = np.unique(Y_test)\n",
    "for i in range(0, len(y_uniq)):\n",
    "    y_tr = y_change(y, y_uniq[i])\n",
    "    for k in range(0, len(y)):\n",
    "        if y_tr[k] == 1 and output[i][k] >= 0.5:\n",
    "            y_pred[k] = int(y_uniq[i])"
   ]
  },
  {
   "cell_type": "code",
   "execution_count": null,
   "id": "863be213",
   "metadata": {},
   "outputs": [],
   "source": []
  },
  {
   "cell_type": "code",
   "execution_count": 13,
   "id": "daf948c2",
   "metadata": {},
   "outputs": [],
   "source": [
    "def F1_score(y,y_hat):\n",
    "    tp,tn,fp,fn = 0,0,0,0\n",
    "    for i in range(len(y)):\n",
    "        if y[i] == 1 and y_hat[i] == 1:\n",
    "            tp += 1\n",
    "        elif y[i] == 1 and y_hat[i] == 0:\n",
    "            fn += 1\n",
    "        elif y[i] == 0 and y_hat[i] == 1:\n",
    "            fp += 1\n",
    "        elif y[i] == 0 and y_hat[i] == 0:\n",
    "            tn += 1\n",
    "    precision = tp/(tp+fp)\n",
    "    recall = tp/(tp+fn)\n",
    "    f1_score = 2*precision*recall/(precision+recall)\n",
    "    return f\"f1_score = {f1_score}, recall = {recall}, precision = {precision}\" "
   ]
  },
  {
   "cell_type": "code",
   "execution_count": 14,
   "id": "d0499f47",
   "metadata": {},
   "outputs": [
    {
     "data": {
      "text/plain": [
       "'f1_score = 0.3636363636363636, recall = 0.2222222222222222, precision = 1.0'"
      ]
     },
     "execution_count": 14,
     "metadata": {},
     "output_type": "execute_result"
    }
   ],
   "source": [
    "F1_score(Y_test,y_pred)"
   ]
  },
  {
   "cell_type": "code",
   "execution_count": 38,
   "id": "3838db9d",
   "metadata": {},
   "outputs": [],
   "source": [
    "#plotting confusion matrix\n",
    "from sklearn.metrics import confusion_matrix\n",
    "cm = confusion_matrix(Y_test,y_pred)"
   ]
  },
  {
   "cell_type": "code",
   "execution_count": 39,
   "id": "c9c3a6ee",
   "metadata": {},
   "outputs": [
    {
     "data": {
      "text/plain": [
       "Text(0.5, 48.29999999999998, 'Predicted label')"
      ]
     },
     "execution_count": 39,
     "metadata": {},
     "output_type": "execute_result"
    },
    {
     "data": {
      "image/png": "[encoded data removed]",
      "text/plain": [
       "<Figure size 360x360 with 2 Axes>"
      ]
     },
     "metadata": {
      "needs_background": "light"
     },
     "output_type": "display_data"
    }
   ],
   "source": [
    "import seaborn as sns\n",
    "plt.figure(figsize = (5,5))\n",
    "sns.heatmap(cm,annot = True,linewidths = 0.5,square = True,cmap = 'Greens')\n",
    "plt.ylabel(\"Actual label\")\n",
    "plt.xlabel(\"Predicted label\")"
   ]
  },
  {
   "cell_type": "markdown",
   "id": "66e8be45",
   "metadata": {},
   "source": [
    "# Implementing logistic regression from sklearn"
   ]
  },
  {
   "cell_type": "code",
   "execution_count": 40,
   "id": "b2d37f75",
   "metadata": {},
   "outputs": [
    {
     "name": "stdout",
     "output_type": "stream",
     "text": [
      "1.0\n"
     ]
    }
   ],
   "source": [
    "from sklearn.linear_model import LogisticRegression\n",
    "regr = LogisticRegression()\n",
    "regr.fit(X_train,Y_train)\n",
    "Y_pred = regr.predict(X_test)\n",
    "from sklearn.metrics import accuracy_score\n",
    "print(accuracy_score(Y_pred,Y_test))"
   ]
  },
  {
   "cell_type": "code",
   "execution_count": 41,
   "id": "c56adbfc",
   "metadata": {},
   "outputs": [
    {
     "data": {
      "text/plain": [
       "array([[13,  0,  0],\n",
       "       [ 0,  9,  0],\n",
       "       [ 0,  0,  8]], dtype=int64)"
      ]
     },
     "execution_count": 41,
     "metadata": {},
     "output_type": "execute_result"
    }
   ],
   "source": [
    "from sklearn.metrics import confusion_matrix\n",
    "cm = confusion_matrix(Y_test,Y_pred)\n",
    "cm "
   ]
  },
  {
   "cell_type": "code",
   "execution_count": 42,
   "id": "3e21eb93",
   "metadata": {},
   "outputs": [
    {
     "data": {
      "text/plain": [
       "Text(0.5, 48.29999999999998, 'Predicted label')"
      ]
     },
     "execution_count": 42,
     "metadata": {},
     "output_type": "execute_result"
    },
    {
     "data": {
      "image/png": "[encoded data removed]",
      "text/plain": [
       "<Figure size 360x360 with 2 Axes>"
      ]
     },
     "metadata": {
      "needs_background": "light"
     },
     "output_type": "display_data"
    }
   ],
   "source": [
    "import seaborn as sns\n",
    "plt.figure(figsize = (5,5))\n",
    "sns.heatmap(cm,annot = True,linewidths = 0.5,square = True,cmap = 'Greens')\n",
    "plt.ylabel(\"Actual label\")\n",
    "plt.xlabel(\"Predicted label\")"
   ]
  },
  {
   "cell_type": "markdown",
   "id": "5da8eddf",
   "metadata": {},
   "source": [
    "# MNIST DATASET"
   ]
  },
  {
   "cell_type": "markdown",
   "id": "67bc87d9",
   "metadata": {},
   "source": [
    "# Logistic Regression from scratch"
   ]
  },
  {
   "cell_type": "code",
   "execution_count": 43,
   "id": "2ae1cb8a",
   "metadata": {},
   "outputs": [],
   "source": [
    "from sklearn.datasets import fetch_openml\n",
    "import numpy as np\n",
    "mnist = fetch_openml('mnist_784', version=1)\n",
    "test_data, test_target = (mnist[\"data\"][60000:]).to_numpy(int),(mnist[\"target\"][60000:]).to_numpy(int)\n",
    "train_data,train_target = (mnist['data'][:60000]).to_numpy(int),(mnist['target'][:60000]).to_numpy(int)"
   ]
  },
  {
   "cell_type": "code",
   "execution_count": null,
   "id": "567e16ef",
   "metadata": {},
   "outputs": [],
   "source": []
  },
  {
   "cell_type": "code",
   "execution_count": 44,
   "id": "89ac392e",
   "metadata": {},
   "outputs": [],
   "source": [
    "def hypothesis(theta, X):\n",
    "    return 1 / (1 + np.exp(-(np.dot(theta, X.T)))) - 0.0000001"
   ]
  },
  {
   "cell_type": "code",
   "execution_count": 45,
   "id": "863f27c8",
   "metadata": {},
   "outputs": [],
   "source": [
    "def cost(X, y, theta):\n",
    "    y1 = hypothesis(X, theta)\n",
    "    return -(1/len(X)) * np.sum(y*np.log(y1) + (1-y)*np.log(1-y1))"
   ]
  },
  {
   "cell_type": "code",
   "execution_count": 46,
   "id": "d6d4db81",
   "metadata": {},
   "outputs": [],
   "source": [
    "y = train_target\n",
    "y1 = np.zeros([train_data.shape[0], len(np.unique(y))])\n",
    "for i in range(0, len(np.unique(y))):\n",
    "    for j in range(0, len(y1)):\n",
    "        if y[j] == np.unique(y)[i]:\n",
    "            y1[j, i] = 1\n",
    "        else: \n",
    "            y1[j, i] = 0"
   ]
  },
  {
   "cell_type": "code",
   "execution_count": 47,
   "id": "0255e6ad",
   "metadata": {},
   "outputs": [],
   "source": [
    "def gradient_descent(X, y, theta, alpha, epochs):\n",
    "    m = len(X)\n",
    "    for i in range(0, epochs):\n",
    "        for j in range(0,10):\n",
    "            theta = np.array(theta)\n",
    "            h = hypothesis(theta[:,j], X)\n",
    "            for k in range(0, theta.shape[0]):\n",
    "                theta[k, j] -= (alpha/m) * np.sum((h-y[:, j])*X[:, k])\n",
    "    return theta, cost"
   ]
  },
  {
   "cell_type": "code",
   "execution_count": null,
   "id": "a308100b",
   "metadata": {},
   "outputs": [
    {
     "name": "stderr",
     "output_type": "stream",
     "text": [
      "C:\\Users\\naren\\AppData\\Local\\Temp/ipykernel_11704/2241797263.py:2: RuntimeWarning: overflow encountered in exp\n",
      "  return 1 / (1 + np.exp(-(np.dot(theta, X.T)))) - 0.0000001\n"
     ]
    }
   ],
   "source": [
    "theta = np.zeros([train_data.shape[1], y1.shape[1]])\n",
    "theta = gradient_descent(train_data, y1, theta, 0.001, 10000)\n",
    "theta"
   ]
  },
  {
   "cell_type": "code",
   "execution_count": null,
   "id": "35af081e",
   "metadata": {},
   "outputs": [],
   "source": []
  },
  {
   "cell_type": "code",
   "execution_count": null,
   "id": "652f738d",
   "metadata": {},
   "outputs": [],
   "source": [
    "output = []\n",
    "for i in range(0,10):\n",
    "    h = hypothesis(theta[0][:,i], test_data)\n",
    "    output.append(h)"
   ]
  },
  {
   "cell_type": "code",
   "execution_count": null,
   "id": "fbd02c1f",
   "metadata": {},
   "outputs": [],
   "source": [
    "y = test_target\n",
    "y2 = np.zeros([test_data.shape[0], len(np.unique(y))])\n",
    "for i in range(0, len(np.unique(y))):\n",
    "    for j in range(0, len(y2)):\n",
    "        if y[j] == np.unique(y)[i]:\n",
    "            y2[j, i] = 1\n",
    "        else: \n",
    "            y2[j, i] = 0\n",
    "accuracy = 0\n",
    "for col in range(0,3):\n",
    "    for row in range(len(y2)):\n",
    "        if y2[row, col] == 1 and output[col][row] >= 0.5:\n",
    "            accuracy += 1\n",
    "accuracy = accuracy/len(X_test)\n",
    "accuracy"
   ]
  },
  {
   "cell_type": "code",
   "execution_count": null,
   "id": "a3f68c6b",
   "metadata": {},
   "outputs": [],
   "source": [
    "def y_change(y, cl):\n",
    "    y_pr=[]\n",
    "    for i in range(0, len(y)):\n",
    "        if y[i] == cl:\n",
    "            y_pr.append(1)\n",
    "        else:\n",
    "            y_pr.append(0)\n",
    "    return y_pr\n",
    "y_pred =[0]*len(y)\n",
    "y_uniq = np.unique(Y_test)\n",
    "for i in range(0, len(y_uniq)):\n",
    "    y_tr = y_change(y, y_uniq[i])\n",
    "    for k in range(0, len(y)):\n",
    "        if y_tr[k] == 1 and output[i][k] >= 0.5:\n",
    "            y_pred[k] = int(y_uniq[i])"
   ]
  },
  {
   "cell_type": "code",
   "execution_count": null,
   "id": "52d6520e",
   "metadata": {},
   "outputs": [],
   "source": []
  },
  {
   "cell_type": "code",
   "execution_count": null,
   "id": "61c773da",
   "metadata": {},
   "outputs": [],
   "source": [
    "def F1_score(y,y_hat):\n",
    "    tp,tn,fp,fn = 0,0,0,0\n",
    "    for i in range(len(y)):\n",
    "        if y[i] == 1 and y_hat[i] == 1:\n",
    "            tp += 1\n",
    "        elif y[i] == 1 and y_hat[i] == 0:\n",
    "            fn += 1\n",
    "        elif y[i] == 0 and y_hat[i] == 1:\n",
    "            fp += 1\n",
    "        elif y[i] == 0 and y_hat[i] == 0:\n",
    "            tn += 1\n",
    "    precision = tp/(tp+fp)\n",
    "    recall = tp/(tp+fn)\n",
    "    f1_score = 2*precision*recall/(precision+recall)\n",
    "    return f\"f1_score = {f1_score}, recall = {recall}, precision = {precision}\" "
   ]
  },
  {
   "cell_type": "code",
   "execution_count": null,
   "id": "6a845d01",
   "metadata": {},
   "outputs": [],
   "source": [
    "F1_score(test_target,y_pred)"
   ]
  },
  {
   "cell_type": "code",
   "execution_count": null,
   "id": "edbc4fc3",
   "metadata": {},
   "outputs": [],
   "source": [
    "#plotting confusion matrix\n",
    "from sklearn.metrics import confusion_matrix\n",
    "cm = confusion_matrix(Y_test,y_pred)\n",
    "cm"
   ]
  },
  {
   "cell_type": "code",
   "execution_count": null,
   "id": "7084aef7",
   "metadata": {},
   "outputs": [],
   "source": [
    "import seaborn as sns\n",
    "plt.figure(figsize = (5,5))\n",
    "sns.heatmap(cm,annot = True,linewidths = 0.5,square = True,cmap = 'Greens')\n",
    "plt.ylabel(\"Actual label\")\n",
    "plt.xlabel(\"Predicted label\")"
   ]
  },
  {
   "cell_type": "markdown",
   "id": "c4e4a439",
   "metadata": {},
   "source": [
    "# Implementing logistic regression from sklearn"
   ]
  },
  {
   "cell_type": "code",
   "execution_count": null,
   "id": "fd665fcb",
   "metadata": {},
   "outputs": [],
   "source": [
    "from sklearn.linear_model import LogisticRegression\n",
    "regr = LogisticRegression()\n",
    "regr.fit(X_train,Y_train)\n",
    "Y_pred = regr.predict(X_test)\n",
    "from sklearn.metrics import accuracy_score\n",
    "print(accuracy_score(Y_pred,Y_test)) "
   ]
  },
  {
   "cell_type": "code",
   "execution_count": null,
   "id": "b6f7600a",
   "metadata": {},
   "outputs": [],
   "source": [
    "from sklearn.metrics import confusion_matrix\n",
    "cm = confusion_matrix(Y_test,Y_pred)\n",
    "cm"
   ]
  },
  {
   "cell_type": "code",
   "execution_count": null,
   "id": "b08c3ae5",
   "metadata": {},
   "outputs": [],
   "source": [
    "import seaborn as sns\n",
    "plt.figure(figsize = (5,5))\n",
    "sns.heatmap(cm,annot = True,linewidths = 0.5,square = True,cmap = 'Greens')\n",
    "plt.ylabel(\"Actual label\")\n",
    "plt.xlabel(\"Predicted label\")"
   ]
  }
 ],
 "metadata": {
  "kernelspec": {
   "display_name": "Python 3 (ipykernel)",
   "language": "python",
   "name": "python3"
  },
  "language_info": {
   "codemirror_mode": {
    "name": "ipython",
    "version": 3
   },
   "file_extension": ".py",
   "mimetype": "text/x-python",
   "name": "python",
   "nbconvert_exporter": "python",
   "pygments_lexer": "ipython3",
   "version": "3.9.15"
  }
 },
 "nbformat": 4,
 "nbformat_minor": 5
}
